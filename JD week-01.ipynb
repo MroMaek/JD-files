{
 "cells": [
  {
   "cell_type": "code",
   "execution_count": 1,
   "id": "7671c20c",
   "metadata": {},
   "outputs": [],
   "source": [
    "import torch\n",
    "import numpy as np\n",
    "import matplotlib.pyplot as plt"
   ]
  },
  {
   "cell_type": "code",
   "execution_count": 8,
   "id": "100c8538",
   "metadata": {},
   "outputs": [],
   "source": [
    "def Linear_Regression(Xi, Yi, learning_rate:int, iterations:int):\n",
    "    \n",
    "    if len(Xi)!=len(Yi):\n",
    "        print(\"Input arrays must have equal length!\")\n",
    "        return False\n",
    "    \n",
    "    X = torch.from_numpy(Xi).float()\n",
    "    Y = torch.from_numpy(Yi).float()\n",
    "    \n",
    "    w = torch.tensor(0.0, requires_grad = True)\n",
    "    b = torch.tensor(0.0, requires_grad = True)\n",
    "    \n",
    "    for i in range(iterations):\n",
    "        yp = w*X+b\n",
    "        loss_mean = torch.mean((yp-Y)**2)\n",
    "        loss_mean.backward()\n",
    "        w.data -= learning_rate*w.grad.data\n",
    "        b.data -= learning_rate*b.grad.data\n",
    "        w.grad.zero_()\n",
    "        b.grad.zero_()\n",
    "        \n",
    "    plt.scatter(X.numpy(),Y.numpy(),s=1.1)\n",
    "    plt.plot(X.numpy(),(w*X+b).detach().numpy(),color=\"r\")\n",
    "    plt.xlabel('X values')\n",
    "    plt.ylabel('Y values')\n",
    "    plt.title('Result of Linear Regression with Tensor & Autograd')\n",
    "    plt.show()\n",
    "    print(\"final w value:\", w.data)\n",
    "    print(\"final b value:\", b.data)"
   ]
  },
  {
   "cell_type": "code",
   "execution_count": 9,
   "id": "ac2bd4ea",
   "metadata": {},
   "outputs": [
    {
     "data": {
      "image/png": "[encoded data removed]",
      "text/plain": [
       "<Figure size 432x288 with 1 Axes>"
      ]
     },
     "metadata": {
      "needs_background": "light"
     },
     "output_type": "display_data"
    },
    {
     "name": "stdout",
     "output_type": "stream",
     "text": [
      "final w value: tensor(1.9128)\n",
      "final b value: tensor(0.6671)\n"
     ]
    }
   ],
   "source": [
    "# Example Usage\n",
    "Xi1 = np.linspace(0,10,100)\n",
    "Yi1 = 2*Xi1+np.random.randn(100)*3.5\n",
    "Linear_Regression(Xi1,Yi1,0.01,1000)"
   ]
  },
  {
   "cell_type": "code",
   "execution_count": null,
   "id": "193b369b",
   "metadata": {},
   "outputs": [],
   "source": []
  }
 ],
 "metadata": {
  "kernelspec": {
   "display_name": "Python 3 (ipykernel)",
   "language": "python",
   "name": "python3"
  },
  "language_info": {
   "codemirror_mode": {
    "name": "ipython",
    "version": 3
   },
   "file_extension": ".py",
   "mimetype": "text/x-python",
   "name": "python",
   "nbconvert_exporter": "python",
   "pygments_lexer": "ipython3",
   "version": "3.9.12"
  }
 },
 "nbformat": 4,
 "nbformat_minor": 5
}
